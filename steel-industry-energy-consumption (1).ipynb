{
 "cells": [
  {
   "cell_type": "markdown",
   "id": "aeda1ce2",
   "metadata": {
    "papermill": {
     "duration": 0.021339,
     "end_time": "2021-12-22T16:07:06.055226",
     "exception": false,
     "start_time": "2021-12-22T16:07:06.033887",
     "status": "completed"
    },
    "tags": []
   },
   "source": [
    "# Energy Usage Prediction of Steel Industry "
   ]
  },
  {
   "cell_type": "code",
   "execution_count": 1,
   "id": "0a571ad1",
   "metadata": {
    "execution": {
     "iopub.execute_input": "2021-12-22T16:07:06.105630Z",
     "iopub.status.busy": "2021-12-22T16:07:06.104997Z",
     "iopub.status.idle": "2021-12-22T16:07:07.505865Z",
     "shell.execute_reply": "2021-12-22T16:07:07.505245Z",
     "shell.execute_reply.started": "2021-12-22T16:05:53.532970Z"
    },
    "papermill": {
     "duration": 1.429024,
     "end_time": "2021-12-22T16:07:07.506080",
     "exception": false,
     "start_time": "2021-12-22T16:07:06.077056",
     "status": "completed"
    },
    "tags": []
   },
   "outputs": [],
   "source": [
    "#import library\n",
    "import numpy as np\n",
    "import math\n",
    "import pandas as pd\n",
    "import seaborn as sns\n",
    "import matplotlib.pyplot as plt\n",
    "from sklearn.model_selection import train_test_split\n",
    "from sklearn.linear_model import LinearRegression, Ridge, Lasso\n",
    "from sklearn import metrics"
   ]
  },
  {
   "cell_type": "markdown",
   "id": "cdf340b6",
   "metadata": {
    "papermill": {
     "duration": 0.021052,
     "end_time": "2021-12-22T16:07:07.548191",
     "exception": false,
     "start_time": "2021-12-22T16:07:07.527139",
     "status": "completed"
    },
    "tags": []
   },
   "source": [
    "# Data Extraction"
   ]
  },
  {
   "cell_type": "code",
   "execution_count": 2,
   "id": "2036111c",
   "metadata": {
    "execution": {
     "iopub.execute_input": "2021-12-22T16:07:07.595190Z",
     "iopub.status.busy": "2021-12-22T16:07:07.594413Z",
     "iopub.status.idle": "2021-12-22T16:07:07.729200Z",
     "shell.execute_reply": "2021-12-22T16:07:07.728682Z",
     "shell.execute_reply.started": "2021-12-22T16:05:54.825815Z"
    },
    "papermill": {
     "duration": 0.159673,
     "end_time": "2021-12-22T16:07:07.729369",
     "exception": false,
     "start_time": "2021-12-22T16:07:07.569696",
     "status": "completed"
    },
    "tags": []
   },
   "outputs": [],
   "source": [
    "df = pd.read_csv('../input/steel-industry-energy-consumption/Steel_industry_data.csv')"
   ]
  },
  {
   "cell_type": "code",
   "execution_count": 3,
   "id": "13058ec1",
   "metadata": {
    "execution": {
     "iopub.execute_input": "2021-12-22T16:07:07.776089Z",
     "iopub.status.busy": "2021-12-22T16:07:07.775252Z",
     "iopub.status.idle": "2021-12-22T16:07:07.778653Z",
     "shell.execute_reply": "2021-12-22T16:07:07.779183Z",
     "shell.execute_reply.started": "2021-12-22T16:05:54.954096Z"
    },
    "papermill": {
     "duration": 0.030644,
     "end_time": "2021-12-22T16:07:07.779367",
     "exception": false,
     "start_time": "2021-12-22T16:07:07.748723",
     "status": "completed"
    },
    "tags": []
   },
   "outputs": [
    {
     "data": {
      "text/plain": [
       "(35040, 11)"
      ]
     },
     "execution_count": 3,
     "metadata": {},
     "output_type": "execute_result"
    }
   ],
   "source": [
    "df.shape"
   ]
  },
  {
   "cell_type": "code",
   "execution_count": 4,
   "id": "8c913219",
   "metadata": {
    "execution": {
     "iopub.execute_input": "2021-12-22T16:07:07.827165Z",
     "iopub.status.busy": "2021-12-22T16:07:07.826445Z",
     "iopub.status.idle": "2021-12-22T16:07:07.853150Z",
     "shell.execute_reply": "2021-12-22T16:07:07.853671Z",
     "shell.execute_reply.started": "2021-12-22T16:05:54.966030Z"
    },
    "papermill": {
     "duration": 0.051829,
     "end_time": "2021-12-22T16:07:07.853834",
     "exception": false,
     "start_time": "2021-12-22T16:07:07.802005",
     "status": "completed"
    },
    "tags": []
   },
   "outputs": [
    {
     "data": {
      "text/html": [
       "<div>\n",
       "<style scoped>\n",
       "    .dataframe tbody tr th:only-of-type {\n",
       "        vertical-align: middle;\n",
       "    }\n",
       "\n",
       "    .dataframe tbody tr th {\n",
       "        vertical-align: top;\n",
       "    }\n",
       "\n",
       "    .dataframe thead th {\n",
       "        text-align: right;\n",
       "    }\n",
       "</style>\n",
       "<table border=\"1\" class=\"dataframe\">\n",
       "  <thead>\n",
       "    <tr style=\"text-align: right;\">\n",
       "      <th></th>\n",
       "      <th>date</th>\n",
       "      <th>Usage_kWh</th>\n",
       "      <th>Lagging_Current_Reactive.Power_kVarh</th>\n",
       "      <th>Leading_Current_Reactive_Power_kVarh</th>\n",
       "      <th>CO2(tCO2)</th>\n",
       "      <th>Lagging_Current_Power_Factor</th>\n",
       "      <th>Leading_Current_Power_Factor</th>\n",
       "      <th>NSM</th>\n",
       "      <th>WeekStatus</th>\n",
       "      <th>Day_of_week</th>\n",
       "      <th>Load_Type</th>\n",
       "    </tr>\n",
       "  </thead>\n",
       "  <tbody>\n",
       "    <tr>\n",
       "      <th>0</th>\n",
       "      <td>01/01/2018 00:15</td>\n",
       "      <td>3.17</td>\n",
       "      <td>2.95</td>\n",
       "      <td>0.0</td>\n",
       "      <td>0.0</td>\n",
       "      <td>73.21</td>\n",
       "      <td>100.0</td>\n",
       "      <td>900</td>\n",
       "      <td>Weekday</td>\n",
       "      <td>Monday</td>\n",
       "      <td>Light_Load</td>\n",
       "    </tr>\n",
       "    <tr>\n",
       "      <th>1</th>\n",
       "      <td>01/01/2018 00:30</td>\n",
       "      <td>4.00</td>\n",
       "      <td>4.46</td>\n",
       "      <td>0.0</td>\n",
       "      <td>0.0</td>\n",
       "      <td>66.77</td>\n",
       "      <td>100.0</td>\n",
       "      <td>1800</td>\n",
       "      <td>Weekday</td>\n",
       "      <td>Monday</td>\n",
       "      <td>Light_Load</td>\n",
       "    </tr>\n",
       "    <tr>\n",
       "      <th>2</th>\n",
       "      <td>01/01/2018 00:45</td>\n",
       "      <td>3.24</td>\n",
       "      <td>3.28</td>\n",
       "      <td>0.0</td>\n",
       "      <td>0.0</td>\n",
       "      <td>70.28</td>\n",
       "      <td>100.0</td>\n",
       "      <td>2700</td>\n",
       "      <td>Weekday</td>\n",
       "      <td>Monday</td>\n",
       "      <td>Light_Load</td>\n",
       "    </tr>\n",
       "    <tr>\n",
       "      <th>3</th>\n",
       "      <td>01/01/2018 01:00</td>\n",
       "      <td>3.31</td>\n",
       "      <td>3.56</td>\n",
       "      <td>0.0</td>\n",
       "      <td>0.0</td>\n",
       "      <td>68.09</td>\n",
       "      <td>100.0</td>\n",
       "      <td>3600</td>\n",
       "      <td>Weekday</td>\n",
       "      <td>Monday</td>\n",
       "      <td>Light_Load</td>\n",
       "    </tr>\n",
       "    <tr>\n",
       "      <th>4</th>\n",
       "      <td>01/01/2018 01:15</td>\n",
       "      <td>3.82</td>\n",
       "      <td>4.50</td>\n",
       "      <td>0.0</td>\n",
       "      <td>0.0</td>\n",
       "      <td>64.72</td>\n",
       "      <td>100.0</td>\n",
       "      <td>4500</td>\n",
       "      <td>Weekday</td>\n",
       "      <td>Monday</td>\n",
       "      <td>Light_Load</td>\n",
       "    </tr>\n",
       "  </tbody>\n",
       "</table>\n",
       "</div>"
      ],
      "text/plain": [
       "               date  Usage_kWh  Lagging_Current_Reactive.Power_kVarh  \\\n",
       "0  01/01/2018 00:15       3.17                                  2.95   \n",
       "1  01/01/2018 00:30       4.00                                  4.46   \n",
       "2  01/01/2018 00:45       3.24                                  3.28   \n",
       "3  01/01/2018 01:00       3.31                                  3.56   \n",
       "4  01/01/2018 01:15       3.82                                  4.50   \n",
       "\n",
       "   Leading_Current_Reactive_Power_kVarh  CO2(tCO2)  \\\n",
       "0                                   0.0        0.0   \n",
       "1                                   0.0        0.0   \n",
       "2                                   0.0        0.0   \n",
       "3                                   0.0        0.0   \n",
       "4                                   0.0        0.0   \n",
       "\n",
       "   Lagging_Current_Power_Factor  Leading_Current_Power_Factor   NSM  \\\n",
       "0                         73.21                         100.0   900   \n",
       "1                         66.77                         100.0  1800   \n",
       "2                         70.28                         100.0  2700   \n",
       "3                         68.09                         100.0  3600   \n",
       "4                         64.72                         100.0  4500   \n",
       "\n",
       "  WeekStatus Day_of_week   Load_Type  \n",
       "0    Weekday      Monday  Light_Load  \n",
       "1    Weekday      Monday  Light_Load  \n",
       "2    Weekday      Monday  Light_Load  \n",
       "3    Weekday      Monday  Light_Load  \n",
       "4    Weekday      Monday  Light_Load  "
      ]
     },
     "execution_count": 4,
     "metadata": {},
     "output_type": "execute_result"
    }
   ],
   "source": [
    "df.head()"
   ]
  },
  {
   "cell_type": "code",
   "execution_count": 5,
   "id": "bdfaebad",
   "metadata": {
    "execution": {
     "iopub.execute_input": "2021-12-22T16:07:07.901288Z",
     "iopub.status.busy": "2021-12-22T16:07:07.900557Z",
     "iopub.status.idle": "2021-12-22T16:07:07.907329Z",
     "shell.execute_reply": "2021-12-22T16:07:07.907798Z",
     "shell.execute_reply.started": "2021-12-22T16:05:54.997063Z"
    },
    "papermill": {
     "duration": 0.032861,
     "end_time": "2021-12-22T16:07:07.907977",
     "exception": false,
     "start_time": "2021-12-22T16:07:07.875116",
     "status": "completed"
    },
    "tags": []
   },
   "outputs": [
    {
     "data": {
      "text/plain": [
       "Index(['date', 'Usage_kWh', 'Lagging_Current_Reactive.Power_kVarh',\n",
       "       'Leading_Current_Reactive_Power_kVarh', 'CO2(tCO2)',\n",
       "       'Lagging_Current_Power_Factor', 'Leading_Current_Power_Factor', 'NSM',\n",
       "       'WeekStatus', 'Day_of_week', 'Load_Type'],\n",
       "      dtype='object')"
      ]
     },
     "execution_count": 5,
     "metadata": {},
     "output_type": "execute_result"
    }
   ],
   "source": [
    "df.columns"
   ]
  },
  {
   "cell_type": "code",
   "execution_count": 6,
   "id": "68fd228f",
   "metadata": {
    "execution": {
     "iopub.execute_input": "2021-12-22T16:07:07.956013Z",
     "iopub.status.busy": "2021-12-22T16:07:07.953665Z",
     "iopub.status.idle": "2021-12-22T16:07:07.963071Z",
     "shell.execute_reply": "2021-12-22T16:07:07.963564Z",
     "shell.execute_reply.started": "2021-12-22T16:05:55.005181Z"
    },
    "papermill": {
     "duration": 0.033597,
     "end_time": "2021-12-22T16:07:07.963731",
     "exception": false,
     "start_time": "2021-12-22T16:07:07.930134",
     "status": "completed"
    },
    "tags": []
   },
   "outputs": [],
   "source": [
    "#rename attribute\n",
    "df = df.rename(columns = {'Lagging_Current_Reactive.Power_kVarh' : 'Lagging_Current_Reactive_Power_kVarh', \n",
    "                          'CO2(tCO2)' : 'CO2'})"
   ]
  },
  {
   "cell_type": "code",
   "execution_count": 7,
   "id": "1dfa93c8",
   "metadata": {
    "execution": {
     "iopub.execute_input": "2021-12-22T16:07:08.011605Z",
     "iopub.status.busy": "2021-12-22T16:07:08.010900Z",
     "iopub.status.idle": "2021-12-22T16:07:08.056684Z",
     "shell.execute_reply": "2021-12-22T16:07:08.057271Z",
     "shell.execute_reply.started": "2021-12-22T16:05:55.021037Z"
    },
    "papermill": {
     "duration": 0.071633,
     "end_time": "2021-12-22T16:07:08.057456",
     "exception": false,
     "start_time": "2021-12-22T16:07:07.985823",
     "status": "completed"
    },
    "tags": []
   },
   "outputs": [
    {
     "data": {
      "text/html": [
       "<div>\n",
       "<style scoped>\n",
       "    .dataframe tbody tr th:only-of-type {\n",
       "        vertical-align: middle;\n",
       "    }\n",
       "\n",
       "    .dataframe tbody tr th {\n",
       "        vertical-align: top;\n",
       "    }\n",
       "\n",
       "    .dataframe thead th {\n",
       "        text-align: right;\n",
       "    }\n",
       "</style>\n",
       "<table border=\"1\" class=\"dataframe\">\n",
       "  <thead>\n",
       "    <tr style=\"text-align: right;\">\n",
       "      <th></th>\n",
       "      <th>Usage_kWh</th>\n",
       "      <th>Lagging_Current_Reactive_Power_kVarh</th>\n",
       "      <th>Leading_Current_Reactive_Power_kVarh</th>\n",
       "      <th>CO2</th>\n",
       "      <th>Lagging_Current_Power_Factor</th>\n",
       "      <th>Leading_Current_Power_Factor</th>\n",
       "      <th>NSM</th>\n",
       "    </tr>\n",
       "  </thead>\n",
       "  <tbody>\n",
       "    <tr>\n",
       "      <th>count</th>\n",
       "      <td>35040.000000</td>\n",
       "      <td>35040.000000</td>\n",
       "      <td>35040.000000</td>\n",
       "      <td>35040.000000</td>\n",
       "      <td>35040.000000</td>\n",
       "      <td>35040.000000</td>\n",
       "      <td>35040.000000</td>\n",
       "    </tr>\n",
       "    <tr>\n",
       "      <th>mean</th>\n",
       "      <td>27.386892</td>\n",
       "      <td>13.035384</td>\n",
       "      <td>3.870949</td>\n",
       "      <td>0.011524</td>\n",
       "      <td>80.578056</td>\n",
       "      <td>84.367870</td>\n",
       "      <td>42750.000000</td>\n",
       "    </tr>\n",
       "    <tr>\n",
       "      <th>std</th>\n",
       "      <td>33.444380</td>\n",
       "      <td>16.306000</td>\n",
       "      <td>7.424463</td>\n",
       "      <td>0.016151</td>\n",
       "      <td>18.921322</td>\n",
       "      <td>30.456535</td>\n",
       "      <td>24940.534317</td>\n",
       "    </tr>\n",
       "    <tr>\n",
       "      <th>min</th>\n",
       "      <td>0.000000</td>\n",
       "      <td>0.000000</td>\n",
       "      <td>0.000000</td>\n",
       "      <td>0.000000</td>\n",
       "      <td>0.000000</td>\n",
       "      <td>0.000000</td>\n",
       "      <td>0.000000</td>\n",
       "    </tr>\n",
       "    <tr>\n",
       "      <th>25%</th>\n",
       "      <td>3.200000</td>\n",
       "      <td>2.300000</td>\n",
       "      <td>0.000000</td>\n",
       "      <td>0.000000</td>\n",
       "      <td>63.320000</td>\n",
       "      <td>99.700000</td>\n",
       "      <td>21375.000000</td>\n",
       "    </tr>\n",
       "    <tr>\n",
       "      <th>50%</th>\n",
       "      <td>4.570000</td>\n",
       "      <td>5.000000</td>\n",
       "      <td>0.000000</td>\n",
       "      <td>0.000000</td>\n",
       "      <td>87.960000</td>\n",
       "      <td>100.000000</td>\n",
       "      <td>42750.000000</td>\n",
       "    </tr>\n",
       "    <tr>\n",
       "      <th>75%</th>\n",
       "      <td>51.237500</td>\n",
       "      <td>22.640000</td>\n",
       "      <td>2.090000</td>\n",
       "      <td>0.020000</td>\n",
       "      <td>99.022500</td>\n",
       "      <td>100.000000</td>\n",
       "      <td>64125.000000</td>\n",
       "    </tr>\n",
       "    <tr>\n",
       "      <th>max</th>\n",
       "      <td>157.180000</td>\n",
       "      <td>96.910000</td>\n",
       "      <td>27.760000</td>\n",
       "      <td>0.070000</td>\n",
       "      <td>100.000000</td>\n",
       "      <td>100.000000</td>\n",
       "      <td>85500.000000</td>\n",
       "    </tr>\n",
       "  </tbody>\n",
       "</table>\n",
       "</div>"
      ],
      "text/plain": [
       "          Usage_kWh  Lagging_Current_Reactive_Power_kVarh  \\\n",
       "count  35040.000000                          35040.000000   \n",
       "mean      27.386892                             13.035384   \n",
       "std       33.444380                             16.306000   \n",
       "min        0.000000                              0.000000   \n",
       "25%        3.200000                              2.300000   \n",
       "50%        4.570000                              5.000000   \n",
       "75%       51.237500                             22.640000   \n",
       "max      157.180000                             96.910000   \n",
       "\n",
       "       Leading_Current_Reactive_Power_kVarh           CO2  \\\n",
       "count                          35040.000000  35040.000000   \n",
       "mean                               3.870949      0.011524   \n",
       "std                                7.424463      0.016151   \n",
       "min                                0.000000      0.000000   \n",
       "25%                                0.000000      0.000000   \n",
       "50%                                0.000000      0.000000   \n",
       "75%                                2.090000      0.020000   \n",
       "max                               27.760000      0.070000   \n",
       "\n",
       "       Lagging_Current_Power_Factor  Leading_Current_Power_Factor  \\\n",
       "count                  35040.000000                  35040.000000   \n",
       "mean                      80.578056                     84.367870   \n",
       "std                       18.921322                     30.456535   \n",
       "min                        0.000000                      0.000000   \n",
       "25%                       63.320000                     99.700000   \n",
       "50%                       87.960000                    100.000000   \n",
       "75%                       99.022500                    100.000000   \n",
       "max                      100.000000                    100.000000   \n",
       "\n",
       "                NSM  \n",
       "count  35040.000000  \n",
       "mean   42750.000000  \n",
       "std    24940.534317  \n",
       "min        0.000000  \n",
       "25%    21375.000000  \n",
       "50%    42750.000000  \n",
       "75%    64125.000000  \n",
       "max    85500.000000  "
      ]
     },
     "execution_count": 7,
     "metadata": {},
     "output_type": "execute_result"
    }
   ],
   "source": [
    "df.describe()"
   ]
  },
  {
   "cell_type": "code",
   "execution_count": 8,
   "id": "6f8de11a",
   "metadata": {
    "execution": {
     "iopub.execute_input": "2021-12-22T16:07:08.107637Z",
     "iopub.status.busy": "2021-12-22T16:07:08.106933Z",
     "iopub.status.idle": "2021-12-22T16:07:08.128545Z",
     "shell.execute_reply": "2021-12-22T16:07:08.127771Z",
     "shell.execute_reply.started": "2021-12-22T16:05:55.069074Z"
    },
    "papermill": {
     "duration": 0.04865,
     "end_time": "2021-12-22T16:07:08.128735",
     "exception": false,
     "start_time": "2021-12-22T16:07:08.080085",
     "status": "completed"
    },
    "tags": []
   },
   "outputs": [
    {
     "name": "stdout",
     "output_type": "stream",
     "text": [
      "<class 'pandas.core.frame.DataFrame'>\n",
      "RangeIndex: 35040 entries, 0 to 35039\n",
      "Data columns (total 11 columns):\n",
      " #   Column                                Non-Null Count  Dtype  \n",
      "---  ------                                --------------  -----  \n",
      " 0   date                                  35040 non-null  object \n",
      " 1   Usage_kWh                             35040 non-null  float64\n",
      " 2   Lagging_Current_Reactive_Power_kVarh  35040 non-null  float64\n",
      " 3   Leading_Current_Reactive_Power_kVarh  35040 non-null  float64\n",
      " 4   CO2                                   35040 non-null  float64\n",
      " 5   Lagging_Current_Power_Factor          35040 non-null  float64\n",
      " 6   Leading_Current_Power_Factor          35040 non-null  float64\n",
      " 7   NSM                                   35040 non-null  int64  \n",
      " 8   WeekStatus                            35040 non-null  object \n",
      " 9   Day_of_week                           35040 non-null  object \n",
      " 10  Load_Type                             35040 non-null  object \n",
      "dtypes: float64(6), int64(1), object(4)\n",
      "memory usage: 2.9+ MB\n"
     ]
    }
   ],
   "source": [
    "df.info()"
   ]
  },
  {
   "cell_type": "code",
   "execution_count": 9,
   "id": "fab992b1",
   "metadata": {
    "execution": {
     "iopub.execute_input": "2021-12-22T16:07:08.179789Z",
     "iopub.status.busy": "2021-12-22T16:07:08.178872Z",
     "iopub.status.idle": "2021-12-22T16:07:08.202242Z",
     "shell.execute_reply": "2021-12-22T16:07:08.202687Z",
     "shell.execute_reply.started": "2021-12-22T16:05:55.106992Z"
    },
    "papermill": {
     "duration": 0.050291,
     "end_time": "2021-12-22T16:07:08.202912",
     "exception": false,
     "start_time": "2021-12-22T16:07:08.152621",
     "status": "completed"
    },
    "tags": []
   },
   "outputs": [
    {
     "data": {
      "text/html": [
       "<div>\n",
       "<style scoped>\n",
       "    .dataframe tbody tr th:only-of-type {\n",
       "        vertical-align: middle;\n",
       "    }\n",
       "\n",
       "    .dataframe tbody tr th {\n",
       "        vertical-align: top;\n",
       "    }\n",
       "\n",
       "    .dataframe thead th {\n",
       "        text-align: right;\n",
       "    }\n",
       "</style>\n",
       "<table border=\"1\" class=\"dataframe\">\n",
       "  <thead>\n",
       "    <tr style=\"text-align: right;\">\n",
       "      <th></th>\n",
       "      <th>Usage_kWh</th>\n",
       "      <th>Lagging_Current_Reactive_Power_kVarh</th>\n",
       "      <th>Leading_Current_Reactive_Power_kVarh</th>\n",
       "      <th>CO2</th>\n",
       "      <th>Lagging_Current_Power_Factor</th>\n",
       "      <th>Leading_Current_Power_Factor</th>\n",
       "      <th>NSM</th>\n",
       "    </tr>\n",
       "  </thead>\n",
       "  <tbody>\n",
       "    <tr>\n",
       "      <th>Usage_kWh</th>\n",
       "      <td>1.000000</td>\n",
       "      <td>0.896150</td>\n",
       "      <td>-0.324922</td>\n",
       "      <td>0.988180</td>\n",
       "      <td>0.385960</td>\n",
       "      <td>0.353566</td>\n",
       "      <td>0.234610</td>\n",
       "    </tr>\n",
       "    <tr>\n",
       "      <th>Lagging_Current_Reactive_Power_kVarh</th>\n",
       "      <td>0.896150</td>\n",
       "      <td>1.000000</td>\n",
       "      <td>-0.405142</td>\n",
       "      <td>0.886948</td>\n",
       "      <td>0.144534</td>\n",
       "      <td>0.407716</td>\n",
       "      <td>0.082662</td>\n",
       "    </tr>\n",
       "    <tr>\n",
       "      <th>Leading_Current_Reactive_Power_kVarh</th>\n",
       "      <td>-0.324922</td>\n",
       "      <td>-0.405142</td>\n",
       "      <td>1.000000</td>\n",
       "      <td>-0.332777</td>\n",
       "      <td>0.526770</td>\n",
       "      <td>-0.944039</td>\n",
       "      <td>0.371605</td>\n",
       "    </tr>\n",
       "    <tr>\n",
       "      <th>CO2</th>\n",
       "      <td>0.988180</td>\n",
       "      <td>0.886948</td>\n",
       "      <td>-0.332777</td>\n",
       "      <td>1.000000</td>\n",
       "      <td>0.379605</td>\n",
       "      <td>0.360019</td>\n",
       "      <td>0.231726</td>\n",
       "    </tr>\n",
       "    <tr>\n",
       "      <th>Lagging_Current_Power_Factor</th>\n",
       "      <td>0.385960</td>\n",
       "      <td>0.144534</td>\n",
       "      <td>0.526770</td>\n",
       "      <td>0.379605</td>\n",
       "      <td>1.000000</td>\n",
       "      <td>-0.519967</td>\n",
       "      <td>0.565270</td>\n",
       "    </tr>\n",
       "    <tr>\n",
       "      <th>Leading_Current_Power_Factor</th>\n",
       "      <td>0.353566</td>\n",
       "      <td>0.407716</td>\n",
       "      <td>-0.944039</td>\n",
       "      <td>0.360019</td>\n",
       "      <td>-0.519967</td>\n",
       "      <td>1.000000</td>\n",
       "      <td>-0.360563</td>\n",
       "    </tr>\n",
       "    <tr>\n",
       "      <th>NSM</th>\n",
       "      <td>0.234610</td>\n",
       "      <td>0.082662</td>\n",
       "      <td>0.371605</td>\n",
       "      <td>0.231726</td>\n",
       "      <td>0.565270</td>\n",
       "      <td>-0.360563</td>\n",
       "      <td>1.000000</td>\n",
       "    </tr>\n",
       "  </tbody>\n",
       "</table>\n",
       "</div>"
      ],
      "text/plain": [
       "                                      Usage_kWh  \\\n",
       "Usage_kWh                              1.000000   \n",
       "Lagging_Current_Reactive_Power_kVarh   0.896150   \n",
       "Leading_Current_Reactive_Power_kVarh  -0.324922   \n",
       "CO2                                    0.988180   \n",
       "Lagging_Current_Power_Factor           0.385960   \n",
       "Leading_Current_Power_Factor           0.353566   \n",
       "NSM                                    0.234610   \n",
       "\n",
       "                                      Lagging_Current_Reactive_Power_kVarh  \\\n",
       "Usage_kWh                                                         0.896150   \n",
       "Lagging_Current_Reactive_Power_kVarh                              1.000000   \n",
       "Leading_Current_Reactive_Power_kVarh                             -0.405142   \n",
       "CO2                                                               0.886948   \n",
       "Lagging_Current_Power_Factor                                      0.144534   \n",
       "Leading_Current_Power_Factor                                      0.407716   \n",
       "NSM                                                               0.082662   \n",
       "\n",
       "                                      Leading_Current_Reactive_Power_kVarh  \\\n",
       "Usage_kWh                                                        -0.324922   \n",
       "Lagging_Current_Reactive_Power_kVarh                             -0.405142   \n",
       "Leading_Current_Reactive_Power_kVarh                              1.000000   \n",
       "CO2                                                              -0.332777   \n",
       "Lagging_Current_Power_Factor                                      0.526770   \n",
       "Leading_Current_Power_Factor                                     -0.944039   \n",
       "NSM                                                               0.371605   \n",
       "\n",
       "                                           CO2  Lagging_Current_Power_Factor  \\\n",
       "Usage_kWh                             0.988180                      0.385960   \n",
       "Lagging_Current_Reactive_Power_kVarh  0.886948                      0.144534   \n",
       "Leading_Current_Reactive_Power_kVarh -0.332777                      0.526770   \n",
       "CO2                                   1.000000                      0.379605   \n",
       "Lagging_Current_Power_Factor          0.379605                      1.000000   \n",
       "Leading_Current_Power_Factor          0.360019                     -0.519967   \n",
       "NSM                                   0.231726                      0.565270   \n",
       "\n",
       "                                      Leading_Current_Power_Factor       NSM  \n",
       "Usage_kWh                                                 0.353566  0.234610  \n",
       "Lagging_Current_Reactive_Power_kVarh                      0.407716  0.082662  \n",
       "Leading_Current_Reactive_Power_kVarh                     -0.944039  0.371605  \n",
       "CO2                                                       0.360019  0.231726  \n",
       "Lagging_Current_Power_Factor                             -0.519967  0.565270  \n",
       "Leading_Current_Power_Factor                              1.000000 -0.360563  \n",
       "NSM                                                      -0.360563  1.000000  "
      ]
     },
     "execution_count": 9,
     "metadata": {},
     "output_type": "execute_result"
    }
   ],
   "source": [
    "#correlation of each variable\n",
    "df.corr()"
   ]
  },
  {
   "cell_type": "code",
   "execution_count": 10,
   "id": "cbebdf3d",
   "metadata": {
    "execution": {
     "iopub.execute_input": "2021-12-22T16:07:08.256664Z",
     "iopub.status.busy": "2021-12-22T16:07:08.255753Z",
     "iopub.status.idle": "2021-12-22T16:07:08.843514Z",
     "shell.execute_reply": "2021-12-22T16:07:08.844016Z",
     "shell.execute_reply.started": "2021-12-22T16:05:55.135583Z"
    },
    "papermill": {
     "duration": 0.617351,
     "end_time": "2021-12-22T16:07:08.844190",
     "exception": false,
     "start_time": "2021-12-22T16:07:08.226839",
     "status": "completed"
    },
    "tags": []
   },
   "outputs": [
    {
     "data": {
      "image/png": "[encoded data removed]",
      "text/plain": [
       "<Figure size 576x432 with 2 Axes>"
      ]
     },
     "metadata": {
      "needs_background": "light"
     },
     "output_type": "display_data"
    }
   ],
   "source": [
    "#visualize the correlation using pearson correlation\n",
    "plt.figure(figsize = (8,6))\n",
    "sns.heatmap(df.corr(), annot = True, cmap = 'YlGnBu')\n",
    "plt.title(\"Pearson Correlation\", fontsize = 15, color = 'b', pad = 12, loc = 'center')\n",
    "plt.show()"
   ]
  },
  {
   "cell_type": "markdown",
   "id": "0fb72d5b",
   "metadata": {
    "papermill": {
     "duration": 0.023154,
     "end_time": "2021-12-22T16:07:08.893299",
     "exception": false,
     "start_time": "2021-12-22T16:07:08.870145",
     "status": "completed"
    },
    "tags": []
   },
   "source": [
    "# Exploratory Data Analysis (EDA)"
   ]
  },
  {
   "cell_type": "code",
   "execution_count": 11,
   "id": "edd7fc97",
   "metadata": {
    "execution": {
     "iopub.execute_input": "2021-12-22T16:07:08.951183Z",
     "iopub.status.busy": "2021-12-22T16:07:08.950189Z",
     "iopub.status.idle": "2021-12-22T16:07:09.005386Z",
     "shell.execute_reply": "2021-12-22T16:07:09.005882Z",
     "shell.execute_reply.started": "2021-12-22T16:05:55.743821Z"
    },
    "papermill": {
     "duration": 0.088984,
     "end_time": "2021-12-22T16:07:09.006093",
     "exception": false,
     "start_time": "2021-12-22T16:07:08.917109",
     "status": "completed"
    },
    "tags": []
   },
   "outputs": [
    {
     "data": {
      "text/html": [
       "<div>\n",
       "<style scoped>\n",
       "    .dataframe tbody tr th:only-of-type {\n",
       "        vertical-align: middle;\n",
       "    }\n",
       "\n",
       "    .dataframe tbody tr th {\n",
       "        vertical-align: top;\n",
       "    }\n",
       "\n",
       "    .dataframe thead th {\n",
       "        text-align: right;\n",
       "    }\n",
       "</style>\n",
       "<table border=\"1\" class=\"dataframe\">\n",
       "  <thead>\n",
       "    <tr style=\"text-align: right;\">\n",
       "      <th></th>\n",
       "      <th>Usage_kWh</th>\n",
       "    </tr>\n",
       "    <tr>\n",
       "      <th>date</th>\n",
       "      <th></th>\n",
       "    </tr>\n",
       "  </thead>\n",
       "  <tbody>\n",
       "    <tr>\n",
       "      <th>01/01/2018 00:00</th>\n",
       "      <td>3.42</td>\n",
       "    </tr>\n",
       "    <tr>\n",
       "      <th>01/01/2018 00:15</th>\n",
       "      <td>3.17</td>\n",
       "    </tr>\n",
       "    <tr>\n",
       "      <th>01/01/2018 00:30</th>\n",
       "      <td>4.00</td>\n",
       "    </tr>\n",
       "    <tr>\n",
       "      <th>01/01/2018 00:45</th>\n",
       "      <td>3.24</td>\n",
       "    </tr>\n",
       "    <tr>\n",
       "      <th>01/01/2018 01:00</th>\n",
       "      <td>3.31</td>\n",
       "    </tr>\n",
       "    <tr>\n",
       "      <th>01/01/2018 01:15</th>\n",
       "      <td>3.82</td>\n",
       "    </tr>\n",
       "    <tr>\n",
       "      <th>01/01/2018 01:30</th>\n",
       "      <td>3.28</td>\n",
       "    </tr>\n",
       "    <tr>\n",
       "      <th>01/01/2018 01:45</th>\n",
       "      <td>3.60</td>\n",
       "    </tr>\n",
       "    <tr>\n",
       "      <th>01/01/2018 02:00</th>\n",
       "      <td>3.60</td>\n",
       "    </tr>\n",
       "    <tr>\n",
       "      <th>01/01/2018 02:15</th>\n",
       "      <td>3.28</td>\n",
       "    </tr>\n",
       "  </tbody>\n",
       "</table>\n",
       "</div>"
      ],
      "text/plain": [
       "                  Usage_kWh\n",
       "date                       \n",
       "01/01/2018 00:00       3.42\n",
       "01/01/2018 00:15       3.17\n",
       "01/01/2018 00:30       4.00\n",
       "01/01/2018 00:45       3.24\n",
       "01/01/2018 01:00       3.31\n",
       "01/01/2018 01:15       3.82\n",
       "01/01/2018 01:30       3.28\n",
       "01/01/2018 01:45       3.60\n",
       "01/01/2018 02:00       3.60\n",
       "01/01/2018 02:15       3.28"
      ]
     },
     "execution_count": 11,
     "metadata": {},
     "output_type": "execute_result"
    }
   ],
   "source": [
    "#analyze the most energy consumption based on time\n",
    "most_energy_consumption = pd.pivot_table(df, index = 'date', values = 'Usage_kWh', aggfunc = {'Usage_kWh' : np.max})\n",
    "most_energy_consumption.head(10)"
   ]
  },
  {
   "cell_type": "code",
   "execution_count": 12,
   "id": "0d4fe58c",
   "metadata": {
    "execution": {
     "iopub.execute_input": "2021-12-22T16:07:09.065458Z",
     "iopub.status.busy": "2021-12-22T16:07:09.064702Z",
     "iopub.status.idle": "2021-12-22T16:07:09.290903Z",
     "shell.execute_reply": "2021-12-22T16:07:09.291414Z",
     "shell.execute_reply.started": "2021-12-22T16:05:55.835582Z"
    },
    "papermill": {
     "duration": 0.259957,
     "end_time": "2021-12-22T16:07:09.291713",
     "exception": false,
     "start_time": "2021-12-22T16:07:09.031756",
     "status": "completed"
    },
    "tags": []
   },
   "outputs": [
    {
     "data": {
      "image/png": "[encoded data removed]",
      "text/plain": [
       "<Figure size 432x288 with 1 Axes>"
      ]
     },
     "metadata": {
      "needs_background": "light"
     },
     "output_type": "display_data"
    }
   ],
   "source": [
    "#visualize the most energy consumption on time\n",
    "chart = most_energy_consumption[:40].sort_values(by = 'Usage_kWh', ascending = False).plot(kind = 'line', color = 'tomato')\n",
    "chart.set_xticklabels(chart.get_xticklabels(), rotation = 45)\n",
    "plt.title('The Most Energy Consumption', fontsize = 15, color = 'b', loc = 'center', pad = 12)\n",
    "plt.xlabel('Date')\n",
    "plt.ylabel('Energy Consumption')\n",
    "plt.show()"
   ]
  },
  {
   "cell_type": "code",
   "execution_count": 13,
   "id": "afe51fe6",
   "metadata": {
    "execution": {
     "iopub.execute_input": "2021-12-22T16:07:09.349504Z",
     "iopub.status.busy": "2021-12-22T16:07:09.348721Z",
     "iopub.status.idle": "2021-12-22T16:07:09.794404Z",
     "shell.execute_reply": "2021-12-22T16:07:09.793858Z",
     "shell.execute_reply.started": "2021-12-22T16:05:56.024451Z"
    },
    "papermill": {
     "duration": 0.473769,
     "end_time": "2021-12-22T16:07:09.794552",
     "exception": false,
     "start_time": "2021-12-22T16:07:09.320783",
     "status": "completed"
    },
    "tags": []
   },
   "outputs": [
    {
     "data": {
      "image/png": "[encoded data removed]",
      "text/plain": [
       "<Figure size 432x288 with 1 Axes>"
      ]
     },
     "metadata": {
      "needs_background": "light"
     },
     "output_type": "display_data"
    }
   ],
   "source": [
    "#analyze the factor of energy consumption\n",
    "chart = df.boxplot(column = ['Usage_kWh', 'Lagging_Current_Reactive_Power_kVarh', 'Leading_Current_Reactive_Power_kVarh',\n",
    "                    'CO2', 'Lagging_Current_Power_Factor', 'Leading_Current_Power_Factor', 'NSM'])\n",
    "chart.set_xticklabels(chart.get_xticklabels(), rotation = 90)\n",
    "plt.title('The Factor of Energy Consumption in Steel Industry', fontsize = 15, color = 'r', pad = 12)\n",
    "plt.xlabel('Factors')\n",
    "plt.ylabel('Count')\n",
    "plt.show()"
   ]
  },
  {
   "cell_type": "code",
   "execution_count": 14,
   "id": "e38150d4",
   "metadata": {
    "execution": {
     "iopub.execute_input": "2021-12-22T16:07:09.856277Z",
     "iopub.status.busy": "2021-12-22T16:07:09.855541Z",
     "iopub.status.idle": "2021-12-22T16:07:09.886502Z",
     "shell.execute_reply": "2021-12-22T16:07:09.885981Z",
     "shell.execute_reply.started": "2021-12-22T16:05:56.662940Z"
    },
    "papermill": {
     "duration": 0.063521,
     "end_time": "2021-12-22T16:07:09.886656",
     "exception": false,
     "start_time": "2021-12-22T16:07:09.823135",
     "status": "completed"
    },
    "tags": []
   },
   "outputs": [
    {
     "data": {
      "text/html": [
       "<div>\n",
       "<style scoped>\n",
       "    .dataframe tbody tr th:only-of-type {\n",
       "        vertical-align: middle;\n",
       "    }\n",
       "\n",
       "    .dataframe tbody tr th {\n",
       "        vertical-align: top;\n",
       "    }\n",
       "\n",
       "    .dataframe thead th {\n",
       "        text-align: right;\n",
       "    }\n",
       "</style>\n",
       "<table border=\"1\" class=\"dataframe\">\n",
       "  <thead>\n",
       "    <tr style=\"text-align: right;\">\n",
       "      <th></th>\n",
       "      <th></th>\n",
       "      <th></th>\n",
       "      <th>NSM</th>\n",
       "      <th>Usage_kWh</th>\n",
       "    </tr>\n",
       "    <tr>\n",
       "      <th>Load_Type</th>\n",
       "      <th>Day_of_week</th>\n",
       "      <th>WeekStatus</th>\n",
       "      <th></th>\n",
       "      <th></th>\n",
       "    </tr>\n",
       "  </thead>\n",
       "  <tbody>\n",
       "    <tr>\n",
       "      <th rowspan=\"7\" valign=\"top\">Light_Load</th>\n",
       "      <th>Friday</th>\n",
       "      <th>Weekday</th>\n",
       "      <td>23206.204380</td>\n",
       "      <td>11.361442</td>\n",
       "    </tr>\n",
       "    <tr>\n",
       "      <th>Monday</th>\n",
       "      <th>Weekday</th>\n",
       "      <td>24026.223776</td>\n",
       "      <td>8.805459</td>\n",
       "    </tr>\n",
       "    <tr>\n",
       "      <th>Saturday</th>\n",
       "      <th>Weekend</th>\n",
       "      <td>31381.843575</td>\n",
       "      <td>7.072210</td>\n",
       "    </tr>\n",
       "    <tr>\n",
       "      <th>Sunday</th>\n",
       "      <th>Weekend</th>\n",
       "      <td>39144.653465</td>\n",
       "      <td>4.171106</td>\n",
       "    </tr>\n",
       "    <tr>\n",
       "      <th>Thursday</th>\n",
       "      <th>Weekday</th>\n",
       "      <td>23206.204380</td>\n",
       "      <td>11.803964</td>\n",
       "    </tr>\n",
       "    <tr>\n",
       "      <th>Tuesday</th>\n",
       "      <th>Weekday</th>\n",
       "      <td>24074.199288</td>\n",
       "      <td>10.510040</td>\n",
       "    </tr>\n",
       "    <tr>\n",
       "      <th>Wednesday</th>\n",
       "      <th>Weekday</th>\n",
       "      <td>24074.199288</td>\n",
       "      <td>10.780560</td>\n",
       "    </tr>\n",
       "    <tr>\n",
       "      <th rowspan=\"7\" valign=\"top\">Maximum_Load</th>\n",
       "      <th>Friday</th>\n",
       "      <th>Weekday</th>\n",
       "      <td>53106.000000</td>\n",
       "      <td>61.043700</td>\n",
       "    </tr>\n",
       "    <tr>\n",
       "      <th>Monday</th>\n",
       "      <th>Weekday</th>\n",
       "      <td>53106.000000</td>\n",
       "      <td>66.278233</td>\n",
       "    </tr>\n",
       "    <tr>\n",
       "      <th>Saturday</th>\n",
       "      <th>Weekend</th>\n",
       "      <td>52492.105263</td>\n",
       "      <td>41.529605</td>\n",
       "    </tr>\n",
       "    <tr>\n",
       "      <th>Sunday</th>\n",
       "      <th>Weekend</th>\n",
       "      <td>52826.470588</td>\n",
       "      <td>29.195662</td>\n",
       "    </tr>\n",
       "    <tr>\n",
       "      <th>Thursday</th>\n",
       "      <th>Weekday</th>\n",
       "      <td>53106.000000</td>\n",
       "      <td>64.522758</td>\n",
       "    </tr>\n",
       "    <tr>\n",
       "      <th>Tuesday</th>\n",
       "      <th>Weekday</th>\n",
       "      <td>53176.530612</td>\n",
       "      <td>66.023359</td>\n",
       "    </tr>\n",
       "    <tr>\n",
       "      <th>Wednesday</th>\n",
       "      <th>Weekday</th>\n",
       "      <td>53176.530612</td>\n",
       "      <td>62.358359</td>\n",
       "    </tr>\n",
       "    <tr>\n",
       "      <th rowspan=\"7\" valign=\"top\">Medium_Load</th>\n",
       "      <th>Friday</th>\n",
       "      <th>Weekday</th>\n",
       "      <td>61758.000000</td>\n",
       "      <td>42.220494</td>\n",
       "    </tr>\n",
       "    <tr>\n",
       "      <th>Monday</th>\n",
       "      <th>Weekday</th>\n",
       "      <td>61758.000000</td>\n",
       "      <td>43.097231</td>\n",
       "    </tr>\n",
       "    <tr>\n",
       "      <th>Saturday</th>\n",
       "      <th>Weekend</th>\n",
       "      <td>62218.421053</td>\n",
       "      <td>17.547648</td>\n",
       "    </tr>\n",
       "    <tr>\n",
       "      <th>Sunday</th>\n",
       "      <th>Weekend</th>\n",
       "      <td>61967.647059</td>\n",
       "      <td>16.368934</td>\n",
       "    </tr>\n",
       "    <tr>\n",
       "      <th>Thursday</th>\n",
       "      <th>Weekday</th>\n",
       "      <td>61758.000000</td>\n",
       "      <td>44.986200</td>\n",
       "    </tr>\n",
       "    <tr>\n",
       "      <th>Tuesday</th>\n",
       "      <th>Weekday</th>\n",
       "      <td>61705.102041</td>\n",
       "      <td>45.020797</td>\n",
       "    </tr>\n",
       "    <tr>\n",
       "      <th>Wednesday</th>\n",
       "      <th>Weekday</th>\n",
       "      <td>61705.102041</td>\n",
       "      <td>40.462379</td>\n",
       "    </tr>\n",
       "  </tbody>\n",
       "</table>\n",
       "</div>"
      ],
      "text/plain": [
       "                                              NSM  Usage_kWh\n",
       "Load_Type    Day_of_week WeekStatus                         \n",
       "Light_Load   Friday      Weekday     23206.204380  11.361442\n",
       "             Monday      Weekday     24026.223776   8.805459\n",
       "             Saturday    Weekend     31381.843575   7.072210\n",
       "             Sunday      Weekend     39144.653465   4.171106\n",
       "             Thursday    Weekday     23206.204380  11.803964\n",
       "             Tuesday     Weekday     24074.199288  10.510040\n",
       "             Wednesday   Weekday     24074.199288  10.780560\n",
       "Maximum_Load Friday      Weekday     53106.000000  61.043700\n",
       "             Monday      Weekday     53106.000000  66.278233\n",
       "             Saturday    Weekend     52492.105263  41.529605\n",
       "             Sunday      Weekend     52826.470588  29.195662\n",
       "             Thursday    Weekday     53106.000000  64.522758\n",
       "             Tuesday     Weekday     53176.530612  66.023359\n",
       "             Wednesday   Weekday     53176.530612  62.358359\n",
       "Medium_Load  Friday      Weekday     61758.000000  42.220494\n",
       "             Monday      Weekday     61758.000000  43.097231\n",
       "             Saturday    Weekend     62218.421053  17.547648\n",
       "             Sunday      Weekend     61967.647059  16.368934\n",
       "             Thursday    Weekday     61758.000000  44.986200\n",
       "             Tuesday     Weekday     61705.102041  45.020797\n",
       "             Wednesday   Weekday     61705.102041  40.462379"
      ]
     },
     "execution_count": 14,
     "metadata": {},
     "output_type": "execute_result"
    }
   ],
   "source": [
    "#analyze of energy consumption and NSM based on load type, day of week and week status\n",
    "pd.pivot_table(df, index = ['Load_Type', 'Day_of_week', 'WeekStatus'], values = ['NSM', 'Usage_kWh'], \n",
    "               aggfunc = {'NSM' : np.mean, 'Usage_kWh' : np.mean})"
   ]
  },
  {
   "cell_type": "code",
   "execution_count": 15,
   "id": "03f85ee8",
   "metadata": {
    "execution": {
     "iopub.execute_input": "2021-12-22T16:07:09.942143Z",
     "iopub.status.busy": "2021-12-22T16:07:09.941556Z",
     "iopub.status.idle": "2021-12-22T16:07:09.973185Z",
     "shell.execute_reply": "2021-12-22T16:07:09.972624Z",
     "shell.execute_reply.started": "2021-12-22T16:05:56.702647Z"
    },
    "papermill": {
     "duration": 0.060405,
     "end_time": "2021-12-22T16:07:09.973333",
     "exception": false,
     "start_time": "2021-12-22T16:07:09.912928",
     "status": "completed"
    },
    "tags": []
   },
   "outputs": [
    {
     "data": {
      "text/html": [
       "<div>\n",
       "<style scoped>\n",
       "    .dataframe tbody tr th:only-of-type {\n",
       "        vertical-align: middle;\n",
       "    }\n",
       "\n",
       "    .dataframe tbody tr th {\n",
       "        vertical-align: top;\n",
       "    }\n",
       "\n",
       "    .dataframe thead th {\n",
       "        text-align: right;\n",
       "    }\n",
       "</style>\n",
       "<table border=\"1\" class=\"dataframe\">\n",
       "  <thead>\n",
       "    <tr style=\"text-align: right;\">\n",
       "      <th></th>\n",
       "      <th></th>\n",
       "      <th></th>\n",
       "      <th>NSM</th>\n",
       "      <th>Usage_kWh</th>\n",
       "    </tr>\n",
       "    <tr>\n",
       "      <th>Load_Type</th>\n",
       "      <th>Day_of_week</th>\n",
       "      <th>WeekStatus</th>\n",
       "      <th></th>\n",
       "      <th></th>\n",
       "    </tr>\n",
       "  </thead>\n",
       "  <tbody>\n",
       "    <tr>\n",
       "      <th rowspan=\"7\" valign=\"top\">Light_Load</th>\n",
       "      <th>Friday</th>\n",
       "      <th>Weekday</th>\n",
       "      <td>23206.204380</td>\n",
       "      <td>11.361442</td>\n",
       "    </tr>\n",
       "    <tr>\n",
       "      <th>Monday</th>\n",
       "      <th>Weekday</th>\n",
       "      <td>24026.223776</td>\n",
       "      <td>8.805459</td>\n",
       "    </tr>\n",
       "    <tr>\n",
       "      <th>Saturday</th>\n",
       "      <th>Weekend</th>\n",
       "      <td>31381.843575</td>\n",
       "      <td>7.072210</td>\n",
       "    </tr>\n",
       "    <tr>\n",
       "      <th>Sunday</th>\n",
       "      <th>Weekend</th>\n",
       "      <td>39144.653465</td>\n",
       "      <td>4.171106</td>\n",
       "    </tr>\n",
       "    <tr>\n",
       "      <th>Thursday</th>\n",
       "      <th>Weekday</th>\n",
       "      <td>23206.204380</td>\n",
       "      <td>11.803964</td>\n",
       "    </tr>\n",
       "    <tr>\n",
       "      <th>Tuesday</th>\n",
       "      <th>Weekday</th>\n",
       "      <td>24074.199288</td>\n",
       "      <td>10.510040</td>\n",
       "    </tr>\n",
       "    <tr>\n",
       "      <th>Wednesday</th>\n",
       "      <th>Weekday</th>\n",
       "      <td>24074.199288</td>\n",
       "      <td>10.780560</td>\n",
       "    </tr>\n",
       "    <tr>\n",
       "      <th rowspan=\"7\" valign=\"top\">Maximum_Load</th>\n",
       "      <th>Friday</th>\n",
       "      <th>Weekday</th>\n",
       "      <td>53106.000000</td>\n",
       "      <td>61.043700</td>\n",
       "    </tr>\n",
       "    <tr>\n",
       "      <th>Monday</th>\n",
       "      <th>Weekday</th>\n",
       "      <td>53106.000000</td>\n",
       "      <td>66.278233</td>\n",
       "    </tr>\n",
       "    <tr>\n",
       "      <th>Saturday</th>\n",
       "      <th>Weekend</th>\n",
       "      <td>52492.105263</td>\n",
       "      <td>41.529605</td>\n",
       "    </tr>\n",
       "    <tr>\n",
       "      <th>Sunday</th>\n",
       "      <th>Weekend</th>\n",
       "      <td>52826.470588</td>\n",
       "      <td>29.195662</td>\n",
       "    </tr>\n",
       "    <tr>\n",
       "      <th>Thursday</th>\n",
       "      <th>Weekday</th>\n",
       "      <td>53106.000000</td>\n",
       "      <td>64.522758</td>\n",
       "    </tr>\n",
       "    <tr>\n",
       "      <th>Tuesday</th>\n",
       "      <th>Weekday</th>\n",
       "      <td>53176.530612</td>\n",
       "      <td>66.023359</td>\n",
       "    </tr>\n",
       "    <tr>\n",
       "      <th>Wednesday</th>\n",
       "      <th>Weekday</th>\n",
       "      <td>53176.530612</td>\n",
       "      <td>62.358359</td>\n",
       "    </tr>\n",
       "    <tr>\n",
       "      <th rowspan=\"7\" valign=\"top\">Medium_Load</th>\n",
       "      <th>Friday</th>\n",
       "      <th>Weekday</th>\n",
       "      <td>61758.000000</td>\n",
       "      <td>42.220494</td>\n",
       "    </tr>\n",
       "    <tr>\n",
       "      <th>Monday</th>\n",
       "      <th>Weekday</th>\n",
       "      <td>61758.000000</td>\n",
       "      <td>43.097231</td>\n",
       "    </tr>\n",
       "    <tr>\n",
       "      <th>Saturday</th>\n",
       "      <th>Weekend</th>\n",
       "      <td>62218.421053</td>\n",
       "      <td>17.547648</td>\n",
       "    </tr>\n",
       "    <tr>\n",
       "      <th>Sunday</th>\n",
       "      <th>Weekend</th>\n",
       "      <td>61967.647059</td>\n",
       "      <td>16.368934</td>\n",
       "    </tr>\n",
       "    <tr>\n",
       "      <th>Thursday</th>\n",
       "      <th>Weekday</th>\n",
       "      <td>61758.000000</td>\n",
       "      <td>44.986200</td>\n",
       "    </tr>\n",
       "    <tr>\n",
       "      <th>Tuesday</th>\n",
       "      <th>Weekday</th>\n",
       "      <td>61705.102041</td>\n",
       "      <td>45.020797</td>\n",
       "    </tr>\n",
       "    <tr>\n",
       "      <th>Wednesday</th>\n",
       "      <th>Weekday</th>\n",
       "      <td>61705.102041</td>\n",
       "      <td>40.462379</td>\n",
       "    </tr>\n",
       "  </tbody>\n",
       "</table>\n",
       "</div>"
      ],
      "text/plain": [
       "                                              NSM  Usage_kWh\n",
       "Load_Type    Day_of_week WeekStatus                         \n",
       "Light_Load   Friday      Weekday     23206.204380  11.361442\n",
       "             Monday      Weekday     24026.223776   8.805459\n",
       "             Saturday    Weekend     31381.843575   7.072210\n",
       "             Sunday      Weekend     39144.653465   4.171106\n",
       "             Thursday    Weekday     23206.204380  11.803964\n",
       "             Tuesday     Weekday     24074.199288  10.510040\n",
       "             Wednesday   Weekday     24074.199288  10.780560\n",
       "Maximum_Load Friday      Weekday     53106.000000  61.043700\n",
       "             Monday      Weekday     53106.000000  66.278233\n",
       "             Saturday    Weekend     52492.105263  41.529605\n",
       "             Sunday      Weekend     52826.470588  29.195662\n",
       "             Thursday    Weekday     53106.000000  64.522758\n",
       "             Tuesday     Weekday     53176.530612  66.023359\n",
       "             Wednesday   Weekday     53176.530612  62.358359\n",
       "Medium_Load  Friday      Weekday     61758.000000  42.220494\n",
       "             Monday      Weekday     61758.000000  43.097231\n",
       "             Saturday    Weekend     62218.421053  17.547648\n",
       "             Sunday      Weekend     61967.647059  16.368934\n",
       "             Thursday    Weekday     61758.000000  44.986200\n",
       "             Tuesday     Weekday     61705.102041  45.020797\n",
       "             Wednesday   Weekday     61705.102041  40.462379"
      ]
     },
     "execution_count": 15,
     "metadata": {},
     "output_type": "execute_result"
    }
   ],
   "source": [
    "#analyze of energy consumption and NSM based on load type, day of week and week status\n",
    "pd.pivot_table(df, index = ['Load_Type', 'Day_of_week', 'WeekStatus'], values = ['NSM', 'Usage_kWh'], \n",
    "               aggfunc = {'NSM' : np.mean, 'Usage_kWh' : np.mean})"
   ]
  },
  {
   "cell_type": "code",
   "execution_count": 16,
   "id": "fb80894f",
   "metadata": {
    "execution": {
     "iopub.execute_input": "2021-12-22T16:07:10.037148Z",
     "iopub.status.busy": "2021-12-22T16:07:10.036468Z",
     "iopub.status.idle": "2021-12-22T16:07:10.334869Z",
     "shell.execute_reply": "2021-12-22T16:07:10.335350Z",
     "shell.execute_reply.started": "2021-12-22T16:05:56.738645Z"
    },
    "papermill": {
     "duration": 0.33464,
     "end_time": "2021-12-22T16:07:10.335526",
     "exception": false,
     "start_time": "2021-12-22T16:07:10.000886",
     "status": "completed"
    },
    "tags": []
   },
   "outputs": [
    {
     "data": {
      "image/png": "[encoded data removed]",
      "text/plain": [
       "<Figure size 1080x360 with 2 Axes>"
      ]
     },
     "metadata": {
      "needs_background": "light"
     },
     "output_type": "display_data"
    }
   ],
   "source": [
    "#visualize energy consumption based on load type\n",
    "plt.rcParams['figure.figsize'] = (15,5)\n",
    "plt.subplot(1, 2, 1)\n",
    "chart = df.groupby('Load_Type')['Usage_kWh'].mean().sort_values(ascending = False).plot(kind = 'bar', color = 'orangered')\n",
    "chart.set_xticklabels(chart.get_xticklabels(), rotation = 0)\n",
    "plt.title('Energy Consumption based on Load Type', fontsize = 15, color = 'b', pad = 12)\n",
    "plt.xlabel('Load Type')\n",
    "plt.ylabel('Energy Consumption')\n",
    "\n",
    "#visualize number of second from midnight based on load type\n",
    "plt.subplot(1, 2, 2)\n",
    "chart = df.groupby('Load_Type')['NSM'].mean().sort_values(ascending = False).plot(kind = 'bar', color = 'gold')\n",
    "chart.set_xticklabels(chart.get_xticklabels(), rotation = 0)\n",
    "plt.title('Number of Second from Midnight based on Load Type', fontsize = 15, color = 'b', pad = 12)\n",
    "plt.xlabel('Load Type')\n",
    "plt.ylabel('Number of Second from Midnight')\n",
    "plt.show()"
   ]
  },
  {
   "cell_type": "code",
   "execution_count": 17,
   "id": "24a28e0c",
   "metadata": {
    "execution": {
     "iopub.execute_input": "2021-12-22T16:07:10.400052Z",
     "iopub.status.busy": "2021-12-22T16:07:10.399387Z",
     "iopub.status.idle": "2021-12-22T16:07:10.613545Z",
     "shell.execute_reply": "2021-12-22T16:07:10.614045Z",
     "shell.execute_reply.started": "2021-12-22T16:05:57.062008Z"
    },
    "papermill": {
     "duration": 0.251227,
     "end_time": "2021-12-22T16:07:10.614214",
     "exception": false,
     "start_time": "2021-12-22T16:07:10.362987",
     "status": "completed"
    },
    "tags": []
   },
   "outputs": [
    {
     "data": {
      "image/png": "[encoded data removed]",
      "text/plain": [
       "<Figure size 504x360 with 1 Axes>"
      ]
     },
     "metadata": {
      "needs_background": "light"
     },
     "output_type": "display_data"
    }
   ],
   "source": [
    "#visualize energy consumption based on week status and load type\n",
    "plt.rcParams['figure.figsize'] = (7,5)\n",
    "chart = df.groupby(['WeekStatus','Load_Type'])['Usage_kWh'].mean().unstack().plot(kind = 'bar')\n",
    "chart.set_xticklabels(chart.get_xticklabels(), rotation = 0)\n",
    "plt.title('Energy Consumption based on Week Status and Load Type', fontsize = 15, pad = 15, color = 'b')\n",
    "plt.xlabel('Week Status')\n",
    "plt.ylabel('Energy Consumption')\n",
    "plt.legend(bbox_to_anchor = (1.3, 1), borderaxespad = 0)\n",
    "plt.show()"
   ]
  },
  {
   "cell_type": "code",
   "execution_count": 18,
   "id": "9f2d3b26",
   "metadata": {
    "execution": {
     "iopub.execute_input": "2021-12-22T16:07:10.674353Z",
     "iopub.status.busy": "2021-12-22T16:07:10.673687Z",
     "iopub.status.idle": "2021-12-22T16:07:11.066285Z",
     "shell.execute_reply": "2021-12-22T16:07:11.066718Z",
     "shell.execute_reply.started": "2021-12-22T16:05:57.309137Z"
    },
    "papermill": {
     "duration": 0.423936,
     "end_time": "2021-12-22T16:07:11.066906",
     "exception": false,
     "start_time": "2021-12-22T16:07:10.642970",
     "status": "completed"
    },
    "tags": []
   },
   "outputs": [
    {
     "data": {
      "image/png": "[encoded data removed]",
      "text/plain": [
       "<Figure size 504x360 with 1 Axes>"
      ]
     },
     "metadata": {
      "needs_background": "light"
     },
     "output_type": "display_data"
    }
   ],
   "source": [
    "#visualize energy consumption based on day of week and load type\n",
    "chart = df.groupby(['Day_of_week','Load_Type'])['Usage_kWh'].mean().unstack().plot(kind = 'bar')\n",
    "chart.set_xticklabels(chart.get_xticklabels(), rotation = 45)\n",
    "plt.title('Energy Consumption based on Day of Week and Load Type', fontsize = 15, pad = 15, color = 'b')\n",
    "plt.xlabel('Day of Week')\n",
    "plt.ylabel('Energy Consumption')\n",
    "plt.legend(bbox_to_anchor = (1.01, 1), borderaxespad = 0)\n",
    "plt.show()"
   ]
  },
  {
   "cell_type": "code",
   "execution_count": 19,
   "id": "80bf6e3b",
   "metadata": {
    "execution": {
     "iopub.execute_input": "2021-12-22T16:07:11.131002Z",
     "iopub.status.busy": "2021-12-22T16:07:11.130360Z",
     "iopub.status.idle": "2021-12-22T16:07:11.354720Z",
     "shell.execute_reply": "2021-12-22T16:07:11.354238Z",
     "shell.execute_reply.started": "2021-12-22T16:05:57.726799Z"
    },
    "papermill": {
     "duration": 0.258273,
     "end_time": "2021-12-22T16:07:11.354873",
     "exception": false,
     "start_time": "2021-12-22T16:07:11.096600",
     "status": "completed"
    },
    "tags": []
   },
   "outputs": [
    {
     "data": {
      "image/png": "[encoded data removed]",
      "text/plain": [
       "<Figure size 504x360 with 1 Axes>"
      ]
     },
     "metadata": {
      "needs_background": "light"
     },
     "output_type": "display_data"
    }
   ],
   "source": [
    "#visualize number of second from midnight based on week status and load type\n",
    "chart = df.groupby(['WeekStatus','Load_Type'])['NSM'].mean().unstack().plot(kind = 'bar')\n",
    "chart.set_xticklabels(chart.get_xticklabels(), rotation = 0)\n",
    "plt.title('Number of Second from Midnight based on Week Status and Load Type', fontsize = 15, pad = 15, color = 'b')\n",
    "plt.xlabel('Week Status')\n",
    "plt.ylabel('Number of Second from Midnight')\n",
    "plt.legend(bbox_to_anchor = (1.3, 1), borderaxespad = 0)\n",
    "plt.show()"
   ]
  },
  {
   "cell_type": "code",
   "execution_count": 20,
   "id": "e4d1c6e1",
   "metadata": {
    "execution": {
     "iopub.execute_input": "2021-12-22T16:07:11.424486Z",
     "iopub.status.busy": "2021-12-22T16:07:11.423744Z",
     "iopub.status.idle": "2021-12-22T16:07:11.701273Z",
     "shell.execute_reply": "2021-12-22T16:07:11.701720Z",
     "shell.execute_reply.started": "2021-12-22T16:05:57.970895Z"
    },
    "papermill": {
     "duration": 0.316332,
     "end_time": "2021-12-22T16:07:11.701890",
     "exception": false,
     "start_time": "2021-12-22T16:07:11.385558",
     "status": "completed"
    },
    "tags": []
   },
   "outputs": [
    {
     "data": {
      "image/png": "[encoded data removed]",
      "text/plain": [
       "<Figure size 504x360 with 1 Axes>"
      ]
     },
     "metadata": {
      "needs_background": "light"
     },
     "output_type": "display_data"
    }
   ],
   "source": [
    "#visualize number of second from midnight based on day of week and load type\n",
    "chart = df.groupby(['Day_of_week','Load_Type'])['NSM'].mean().unstack().plot(kind = 'bar')\n",
    "chart.set_xticklabels(chart.get_xticklabels(), rotation = 45)\n",
    "plt.title('Number of Second from Midnight based on Day of Week and Load Type', fontsize = 15, pad = 15, color = 'b')\n",
    "plt.xlabel('Day of Week')\n",
    "plt.ylabel('Number of Second from Midnight')\n",
    "plt.legend(bbox_to_anchor = (1.01, 1), borderaxespad = 0)\n",
    "plt.show()"
   ]
  },
  {
   "cell_type": "code",
   "execution_count": 21,
   "id": "fd478103",
   "metadata": {
    "execution": {
     "iopub.execute_input": "2021-12-22T16:07:11.786549Z",
     "iopub.status.busy": "2021-12-22T16:07:11.785537Z",
     "iopub.status.idle": "2021-12-22T16:07:12.686545Z",
     "shell.execute_reply": "2021-12-22T16:07:12.685878Z",
     "shell.execute_reply.started": "2021-12-22T16:05:58.269923Z"
    },
    "papermill": {
     "duration": 0.952799,
     "end_time": "2021-12-22T16:07:12.686682",
     "exception": false,
     "start_time": "2021-12-22T16:07:11.733883",
     "status": "completed"
    },
    "tags": []
   },
   "outputs": [
    {
     "data": {
      "image/png": "[encoded data removed]",
      "text/plain": [
       "<Figure size 1080x720 with 9 Axes>"
      ]
     },
     "metadata": {
      "needs_background": "light"
     },
     "output_type": "display_data"
    }
   ],
   "source": [
    "#distribution of each variable\n",
    "df.hist(figsize = (15,10))\n",
    "plt.show()"
   ]
  },
  {
   "cell_type": "markdown",
   "id": "7de5f90f",
   "metadata": {
    "papermill": {
     "duration": 0.032288,
     "end_time": "2021-12-22T16:07:12.751447",
     "exception": false,
     "start_time": "2021-12-22T16:07:12.719159",
     "status": "completed"
    },
    "tags": []
   },
   "source": [
    "# Regression Model"
   ]
  },
  {
   "cell_type": "code",
   "execution_count": 22,
   "id": "92bf60b8",
   "metadata": {
    "execution": {
     "iopub.execute_input": "2021-12-22T16:07:12.824841Z",
     "iopub.status.busy": "2021-12-22T16:07:12.823741Z",
     "iopub.status.idle": "2021-12-22T16:07:12.863669Z",
     "shell.execute_reply": "2021-12-22T16:07:12.864314Z",
     "shell.execute_reply.started": "2021-12-22T16:05:59.252804Z"
    },
    "papermill": {
     "duration": 0.07976,
     "end_time": "2021-12-22T16:07:12.864502",
     "exception": false,
     "start_time": "2021-12-22T16:07:12.784742",
     "status": "completed"
    },
    "tags": []
   },
   "outputs": [
    {
     "data": {
      "text/html": [
       "<div>\n",
       "<style scoped>\n",
       "    .dataframe tbody tr th:only-of-type {\n",
       "        vertical-align: middle;\n",
       "    }\n",
       "\n",
       "    .dataframe tbody tr th {\n",
       "        vertical-align: top;\n",
       "    }\n",
       "\n",
       "    .dataframe thead th {\n",
       "        text-align: right;\n",
       "    }\n",
       "</style>\n",
       "<table border=\"1\" class=\"dataframe\">\n",
       "  <thead>\n",
       "    <tr style=\"text-align: right;\">\n",
       "      <th></th>\n",
       "      <th>Usage_kWh</th>\n",
       "      <th>Lagging_Current_Reactive_Power_kVarh</th>\n",
       "      <th>Leading_Current_Reactive_Power_kVarh</th>\n",
       "      <th>CO2</th>\n",
       "      <th>Lagging_Current_Power_Factor</th>\n",
       "      <th>Leading_Current_Power_Factor</th>\n",
       "      <th>NSM</th>\n",
       "      <th>WeekStatus_Weekend</th>\n",
       "      <th>Day_of_week_Monday</th>\n",
       "      <th>Day_of_week_Saturday</th>\n",
       "      <th>Day_of_week_Sunday</th>\n",
       "      <th>Day_of_week_Thursday</th>\n",
       "      <th>Day_of_week_Tuesday</th>\n",
       "      <th>Day_of_week_Wednesday</th>\n",
       "      <th>Load_Type_Maximum_Load</th>\n",
       "      <th>Load_Type_Medium_Load</th>\n",
       "    </tr>\n",
       "    <tr>\n",
       "      <th>date</th>\n",
       "      <th></th>\n",
       "      <th></th>\n",
       "      <th></th>\n",
       "      <th></th>\n",
       "      <th></th>\n",
       "      <th></th>\n",
       "      <th></th>\n",
       "      <th></th>\n",
       "      <th></th>\n",
       "      <th></th>\n",
       "      <th></th>\n",
       "      <th></th>\n",
       "      <th></th>\n",
       "      <th></th>\n",
       "      <th></th>\n",
       "      <th></th>\n",
       "    </tr>\n",
       "  </thead>\n",
       "  <tbody>\n",
       "    <tr>\n",
       "      <th>01/01/2018 00:15</th>\n",
       "      <td>3.17</td>\n",
       "      <td>2.95</td>\n",
       "      <td>0.0</td>\n",
       "      <td>0.0</td>\n",
       "      <td>73.21</td>\n",
       "      <td>100.0</td>\n",
       "      <td>900</td>\n",
       "      <td>0</td>\n",
       "      <td>1</td>\n",
       "      <td>0</td>\n",
       "      <td>0</td>\n",
       "      <td>0</td>\n",
       "      <td>0</td>\n",
       "      <td>0</td>\n",
       "      <td>0</td>\n",
       "      <td>0</td>\n",
       "    </tr>\n",
       "    <tr>\n",
       "      <th>01/01/2018 00:30</th>\n",
       "      <td>4.00</td>\n",
       "      <td>4.46</td>\n",
       "      <td>0.0</td>\n",
       "      <td>0.0</td>\n",
       "      <td>66.77</td>\n",
       "      <td>100.0</td>\n",
       "      <td>1800</td>\n",
       "      <td>0</td>\n",
       "      <td>1</td>\n",
       "      <td>0</td>\n",
       "      <td>0</td>\n",
       "      <td>0</td>\n",
       "      <td>0</td>\n",
       "      <td>0</td>\n",
       "      <td>0</td>\n",
       "      <td>0</td>\n",
       "    </tr>\n",
       "    <tr>\n",
       "      <th>01/01/2018 00:45</th>\n",
       "      <td>3.24</td>\n",
       "      <td>3.28</td>\n",
       "      <td>0.0</td>\n",
       "      <td>0.0</td>\n",
       "      <td>70.28</td>\n",
       "      <td>100.0</td>\n",
       "      <td>2700</td>\n",
       "      <td>0</td>\n",
       "      <td>1</td>\n",
       "      <td>0</td>\n",
       "      <td>0</td>\n",
       "      <td>0</td>\n",
       "      <td>0</td>\n",
       "      <td>0</td>\n",
       "      <td>0</td>\n",
       "      <td>0</td>\n",
       "    </tr>\n",
       "    <tr>\n",
       "      <th>01/01/2018 01:00</th>\n",
       "      <td>3.31</td>\n",
       "      <td>3.56</td>\n",
       "      <td>0.0</td>\n",
       "      <td>0.0</td>\n",
       "      <td>68.09</td>\n",
       "      <td>100.0</td>\n",
       "      <td>3600</td>\n",
       "      <td>0</td>\n",
       "      <td>1</td>\n",
       "      <td>0</td>\n",
       "      <td>0</td>\n",
       "      <td>0</td>\n",
       "      <td>0</td>\n",
       "      <td>0</td>\n",
       "      <td>0</td>\n",
       "      <td>0</td>\n",
       "    </tr>\n",
       "    <tr>\n",
       "      <th>01/01/2018 01:15</th>\n",
       "      <td>3.82</td>\n",
       "      <td>4.50</td>\n",
       "      <td>0.0</td>\n",
       "      <td>0.0</td>\n",
       "      <td>64.72</td>\n",
       "      <td>100.0</td>\n",
       "      <td>4500</td>\n",
       "      <td>0</td>\n",
       "      <td>1</td>\n",
       "      <td>0</td>\n",
       "      <td>0</td>\n",
       "      <td>0</td>\n",
       "      <td>0</td>\n",
       "      <td>0</td>\n",
       "      <td>0</td>\n",
       "      <td>0</td>\n",
       "    </tr>\n",
       "  </tbody>\n",
       "</table>\n",
       "</div>"
      ],
      "text/plain": [
       "                  Usage_kWh  Lagging_Current_Reactive_Power_kVarh  \\\n",
       "date                                                                \n",
       "01/01/2018 00:15       3.17                                  2.95   \n",
       "01/01/2018 00:30       4.00                                  4.46   \n",
       "01/01/2018 00:45       3.24                                  3.28   \n",
       "01/01/2018 01:00       3.31                                  3.56   \n",
       "01/01/2018 01:15       3.82                                  4.50   \n",
       "\n",
       "                  Leading_Current_Reactive_Power_kVarh  CO2  \\\n",
       "date                                                          \n",
       "01/01/2018 00:15                                   0.0  0.0   \n",
       "01/01/2018 00:30                                   0.0  0.0   \n",
       "01/01/2018 00:45                                   0.0  0.0   \n",
       "01/01/2018 01:00                                   0.0  0.0   \n",
       "01/01/2018 01:15                                   0.0  0.0   \n",
       "\n",
       "                  Lagging_Current_Power_Factor  Leading_Current_Power_Factor  \\\n",
       "date                                                                           \n",
       "01/01/2018 00:15                         73.21                         100.0   \n",
       "01/01/2018 00:30                         66.77                         100.0   \n",
       "01/01/2018 00:45                         70.28                         100.0   \n",
       "01/01/2018 01:00                         68.09                         100.0   \n",
       "01/01/2018 01:15                         64.72                         100.0   \n",
       "\n",
       "                   NSM  WeekStatus_Weekend  Day_of_week_Monday  \\\n",
       "date                                                             \n",
       "01/01/2018 00:15   900                   0                   1   \n",
       "01/01/2018 00:30  1800                   0                   1   \n",
       "01/01/2018 00:45  2700                   0                   1   \n",
       "01/01/2018 01:00  3600                   0                   1   \n",
       "01/01/2018 01:15  4500                   0                   1   \n",
       "\n",
       "                  Day_of_week_Saturday  Day_of_week_Sunday  \\\n",
       "date                                                         \n",
       "01/01/2018 00:15                     0                   0   \n",
       "01/01/2018 00:30                     0                   0   \n",
       "01/01/2018 00:45                     0                   0   \n",
       "01/01/2018 01:00                     0                   0   \n",
       "01/01/2018 01:15                     0                   0   \n",
       "\n",
       "                  Day_of_week_Thursday  Day_of_week_Tuesday  \\\n",
       "date                                                          \n",
       "01/01/2018 00:15                     0                    0   \n",
       "01/01/2018 00:30                     0                    0   \n",
       "01/01/2018 00:45                     0                    0   \n",
       "01/01/2018 01:00                     0                    0   \n",
       "01/01/2018 01:15                     0                    0   \n",
       "\n",
       "                  Day_of_week_Wednesday  Load_Type_Maximum_Load  \\\n",
       "date                                                              \n",
       "01/01/2018 00:15                      0                       0   \n",
       "01/01/2018 00:30                      0                       0   \n",
       "01/01/2018 00:45                      0                       0   \n",
       "01/01/2018 01:00                      0                       0   \n",
       "01/01/2018 01:15                      0                       0   \n",
       "\n",
       "                  Load_Type_Medium_Load  \n",
       "date                                     \n",
       "01/01/2018 00:15                      0  \n",
       "01/01/2018 00:30                      0  \n",
       "01/01/2018 00:45                      0  \n",
       "01/01/2018 01:00                      0  \n",
       "01/01/2018 01:15                      0  "
      ]
     },
     "execution_count": 22,
     "metadata": {},
     "output_type": "execute_result"
    }
   ],
   "source": [
    "#indexing date\n",
    "df = df.set_index('date')\n",
    "\n",
    "#handling categorical data\n",
    "df = pd.get_dummies(df, drop_first = True)\n",
    "df.head()"
   ]
  },
  {
   "cell_type": "code",
   "execution_count": 23,
   "id": "24328608",
   "metadata": {
    "execution": {
     "iopub.execute_input": "2021-12-22T16:07:12.934461Z",
     "iopub.status.busy": "2021-12-22T16:07:12.933822Z",
     "iopub.status.idle": "2021-12-22T16:07:12.957341Z",
     "shell.execute_reply": "2021-12-22T16:07:12.957795Z",
     "shell.execute_reply.started": "2021-12-22T16:05:59.307742Z"
    },
    "papermill": {
     "duration": 0.06034,
     "end_time": "2021-12-22T16:07:12.957982",
     "exception": false,
     "start_time": "2021-12-22T16:07:12.897642",
     "status": "completed"
    },
    "tags": []
   },
   "outputs": [
    {
     "name": "stdout",
     "output_type": "stream",
     "text": [
      "(24528, 15)\n",
      "(24528,)\n",
      "(10512, 15)\n",
      "(10512,)\n"
     ]
    }
   ],
   "source": [
    "#split data\n",
    "X = df.drop('Usage_kWh', axis = 1)\n",
    "y = df['Usage_kWh']\n",
    "X_train, X_test, y_train, y_test = train_test_split(X, y, test_size = 0.3, random_state = 42)\n",
    "print(X_train.shape)\n",
    "print(y_train.shape)\n",
    "print(X_test.shape)\n",
    "print(y_test.shape)"
   ]
  },
  {
   "cell_type": "code",
   "execution_count": 24,
   "id": "29dc026e",
   "metadata": {
    "execution": {
     "iopub.execute_input": "2021-12-22T16:07:13.028910Z",
     "iopub.status.busy": "2021-12-22T16:07:13.028322Z",
     "iopub.status.idle": "2021-12-22T16:07:13.075789Z",
     "shell.execute_reply": "2021-12-22T16:07:13.076804Z",
     "shell.execute_reply.started": "2021-12-22T16:05:59.335075Z"
    },
    "papermill": {
     "duration": 0.085941,
     "end_time": "2021-12-22T16:07:13.077098",
     "exception": false,
     "start_time": "2021-12-22T16:07:12.991157",
     "status": "completed"
    },
    "tags": []
   },
   "outputs": [
    {
     "name": "stdout",
     "output_type": "stream",
     "text": [
      "CPU times: user 16.1 ms, sys: 17.3 ms, total: 33.4 ms\n",
      "Wall time: 27 ms\n"
     ]
    },
    {
     "data": {
      "text/plain": [
       "0.984168162677372"
      ]
     },
     "execution_count": 24,
     "metadata": {},
     "output_type": "execute_result"
    }
   ],
   "source": [
    "#Linear Regression Model\n",
    "lr = LinearRegression()\n",
    "%time lr.fit(X_train, y_train)\n",
    "lr.score(X_test, y_test)"
   ]
  },
  {
   "cell_type": "code",
   "execution_count": 25,
   "id": "3c792ec3",
   "metadata": {
    "execution": {
     "iopub.execute_input": "2021-12-22T16:07:13.207837Z",
     "iopub.status.busy": "2021-12-22T16:07:13.207222Z",
     "iopub.status.idle": "2021-12-22T16:07:13.230480Z",
     "shell.execute_reply": "2021-12-22T16:07:13.232070Z",
     "shell.execute_reply.started": "2021-12-22T16:05:59.384975Z"
    },
    "papermill": {
     "duration": 0.084535,
     "end_time": "2021-12-22T16:07:13.232362",
     "exception": false,
     "start_time": "2021-12-22T16:07:13.147827",
     "status": "completed"
    },
    "tags": []
   },
   "outputs": [
    {
     "name": "stdout",
     "output_type": "stream",
     "text": [
      "CPU times: user 7.63 ms, sys: 5.17 ms, total: 12.8 ms\n",
      "Wall time: 9.17 ms\n"
     ]
    },
    {
     "data": {
      "text/plain": [
       "0.968361386152787"
      ]
     },
     "execution_count": 25,
     "metadata": {},
     "output_type": "execute_result"
    }
   ],
   "source": [
    "#Ridge Regression Model\n",
    "ridge = Ridge(alpha = 0.5)\n",
    "%time ridge.fit(X_train, y_train)\n",
    "ridge.score(X_test, y_test)"
   ]
  },
  {
   "cell_type": "code",
   "execution_count": 26,
   "id": "95916c42",
   "metadata": {
    "execution": {
     "iopub.execute_input": "2021-12-22T16:07:13.367688Z",
     "iopub.status.busy": "2021-12-22T16:07:13.366569Z",
     "iopub.status.idle": "2021-12-22T16:07:13.402977Z",
     "shell.execute_reply": "2021-12-22T16:07:13.403787Z",
     "shell.execute_reply.started": "2021-12-22T16:05:59.416833Z"
    },
    "papermill": {
     "duration": 0.098116,
     "end_time": "2021-12-22T16:07:13.404080",
     "exception": false,
     "start_time": "2021-12-22T16:07:13.305964",
     "status": "completed"
    },
    "tags": []
   },
   "outputs": [
    {
     "name": "stdout",
     "output_type": "stream",
     "text": [
      "CPU times: user 70 ms, sys: 11 ms, total: 81 ms\n",
      "Wall time: 27.6 ms\n"
     ]
    },
    {
     "data": {
      "text/plain": [
       "0.9098749972992153"
      ]
     },
     "execution_count": 26,
     "metadata": {},
     "output_type": "execute_result"
    }
   ],
   "source": [
    "#Lasso Regression Model\n",
    "lasso = Lasso(alpha = 0.5)\n",
    "%time lasso.fit(X_train, y_train)\n",
    "lasso.score(X_test, y_test)"
   ]
  },
  {
   "cell_type": "markdown",
   "id": "829ca9dc",
   "metadata": {
    "papermill": {
     "duration": 0.055797,
     "end_time": "2021-12-22T16:07:13.532405",
     "exception": false,
     "start_time": "2021-12-22T16:07:13.476608",
     "status": "completed"
    },
    "tags": []
   },
   "source": [
    "Linear Regression is very suitable model to predict of energy consumption from Steel Industry because has good accuracy score on 98% "
   ]
  },
  {
   "cell_type": "code",
   "execution_count": 27,
   "id": "81d6f6b0",
   "metadata": {
    "execution": {
     "iopub.execute_input": "2021-12-22T16:07:13.610826Z",
     "iopub.status.busy": "2021-12-22T16:07:13.609753Z",
     "iopub.status.idle": "2021-12-22T16:07:13.615730Z",
     "shell.execute_reply": "2021-12-22T16:07:13.616681Z",
     "shell.execute_reply.started": "2021-12-22T16:05:59.466059Z"
    },
    "papermill": {
     "duration": 0.048746,
     "end_time": "2021-12-22T16:07:13.616968",
     "exception": false,
     "start_time": "2021-12-22T16:07:13.568222",
     "status": "completed"
    },
    "tags": []
   },
   "outputs": [
    {
     "name": "stdout",
     "output_type": "stream",
     "text": [
      "[  3.09659745  70.15826234 124.42399214 ...   2.22293667   1.54271064\n",
      "   3.94845762]\n"
     ]
    }
   ],
   "source": [
    "#prediction\n",
    "y_pred = lr.predict(X_test)\n",
    "print(y_pred)"
   ]
  },
  {
   "cell_type": "code",
   "execution_count": 28,
   "id": "c4ffa651",
   "metadata": {
    "execution": {
     "iopub.execute_input": "2021-12-22T16:07:13.753614Z",
     "iopub.status.busy": "2021-12-22T16:07:13.752962Z",
     "iopub.status.idle": "2021-12-22T16:07:13.757303Z",
     "shell.execute_reply": "2021-12-22T16:07:13.757753Z",
     "shell.execute_reply.started": "2021-12-22T16:05:59.481866Z"
    },
    "papermill": {
     "duration": 0.068273,
     "end_time": "2021-12-22T16:07:13.757926",
     "exception": false,
     "start_time": "2021-12-22T16:07:13.689653",
     "status": "completed"
    },
    "tags": []
   },
   "outputs": [
    {
     "name": "stdout",
     "output_type": "stream",
     "text": [
      "Mean Absolute Error :  2.5519176087378153\n",
      "Mean Squared Error :  17.769389051355976\n",
      "Root Mean Squared Error :  4.215375315598361\n"
     ]
    }
   ],
   "source": [
    "#check MAE, MSE and MSE\n",
    "print('Mean Absolute Error : ', metrics.mean_absolute_error(y_test, y_pred))\n",
    "print('Mean Squared Error : ', metrics.mean_squared_error(y_test, y_pred))\n",
    "print('Root Mean Squared Error : ', math.sqrt(metrics.mean_squared_error(y_test, y_pred)))"
   ]
  },
  {
   "cell_type": "code",
   "execution_count": 29,
   "id": "7a3b6fa9",
   "metadata": {
    "execution": {
     "iopub.execute_input": "2021-12-22T16:07:13.834179Z",
     "iopub.status.busy": "2021-12-22T16:07:13.833429Z",
     "iopub.status.idle": "2021-12-22T16:07:14.055673Z",
     "shell.execute_reply": "2021-12-22T16:07:14.056166Z",
     "shell.execute_reply.started": "2021-12-22T16:05:59.496851Z"
    },
    "papermill": {
     "duration": 0.262307,
     "end_time": "2021-12-22T16:07:14.056327",
     "exception": false,
     "start_time": "2021-12-22T16:07:13.794020",
     "status": "completed"
    },
    "tags": []
   },
   "outputs": [
    {
     "data": {
      "image/png": "[encoded data removed]",
      "text/plain": [
       "<Figure size 504x360 with 1 Axes>"
      ]
     },
     "metadata": {
      "needs_background": "light"
     },
     "output_type": "display_data"
    }
   ],
   "source": [
    "#visualize model\n",
    "x = y_test\n",
    "y = y_pred\n",
    "\n",
    "plt.title('Linear Regression Model', fontsize = 15, color = 'g', pad = 12)\n",
    "plt.plot(x, y, 'o', color = 'r')\n",
    "\n",
    "m, b = np.polyfit(x, y, 1)\n",
    "plt.plot(x, m * x + b, color = 'darkblue')\n",
    "plt.xlabel('Actual')\n",
    "plt.ylabel('Predicted')\n",
    "plt.show()"
   ]
  }
 ],
 "metadata": {
  "kernelspec": {
   "display_name": "Python 3",
   "language": "python",
   "name": "python3"
  },
  "language_info": {
   "codemirror_mode": {
    "name": "ipython",
    "version": 3
   },
   "file_extension": ".py",
   "mimetype": "text/x-python",
   "name": "python",
   "nbconvert_exporter": "python",
   "pygments_lexer": "ipython3",
   "version": "3.7.12"
  },
  "papermill": {
   "default_parameters": {},
   "duration": 17.829731,
   "end_time": "2021-12-22T16:07:14.805968",
   "environment_variables": {},
   "exception": null,
   "input_path": "__notebook__.ipynb",
   "output_path": "__notebook__.ipynb",
   "parameters": {},
   "start_time": "2021-12-22T16:06:56.976237",
   "version": "2.3.3"
  }
 },
 "nbformat": 4,
 "nbformat_minor": 5
}
